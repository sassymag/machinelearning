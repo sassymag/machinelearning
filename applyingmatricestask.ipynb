{
  "nbformat": 4,
  "nbformat_minor": 0,
  "metadata": {
    "colab": {
      "provenance": [],
      "authorship_tag": "ABX9TyPMkvb9qxg2Yk73ZnerDKEi",
      "include_colab_link": true
    },
    "kernelspec": {
      "name": "python3",
      "display_name": "Python 3"
    },
    "language_info": {
      "name": "python"
    }
  },
  "cells": [
    {
      "cell_type": "markdown",
      "metadata": {
        "id": "view-in-github",
        "colab_type": "text"
      },
      "source": [
        "<a href=\"https://colab.research.google.com/github/sassymag/machinelearning/blob/main/applyingmatricestask.ipynb\" target=\"_parent\"><img src=\"https://colab.research.google.com/assets/colab-badge.svg\" alt=\"Open In Colab\"/></a>"
      ]
    },
    {
      "cell_type": "markdown",
      "source": [
        "1. Apply the identity matrix ***I3*** to the vector ***u***."
      ],
      "metadata": {
        "id": "YnaKZtUnkcEB"
      }
    },
    {
      "cell_type": "code",
      "execution_count": 1,
      "metadata": {
        "id": "ui7imRFfkPdM"
      },
      "outputs": [],
      "source": [
        "import numpy as np\n",
        "import torch"
      ]
    },
    {
      "cell_type": "code",
      "source": [
        "I = torch.tensor([[1, 0, 0], [0, 1, 0], [0, 0, 1]])\n",
        "I"
      ],
      "metadata": {
        "colab": {
          "base_uri": "https://localhost:8080/"
        },
        "id": "fIr6wJOfksGA",
        "outputId": "e72e762e-8984-4b85-de27-47392d99d155"
      },
      "execution_count": 3,
      "outputs": [
        {
          "output_type": "execute_result",
          "data": {
            "text/plain": [
              "tensor([[1, 0, 0],\n",
              "        [0, 1, 0],\n",
              "        [0, 0, 1]])"
            ]
          },
          "metadata": {},
          "execution_count": 3
        }
      ]
    },
    {
      "cell_type": "code",
      "source": [
        "u_pt = torch.tensor([2, 5, 3])\n",
        "u_pt"
      ],
      "metadata": {
        "colab": {
          "base_uri": "https://localhost:8080/"
        },
        "id": "DNKYNAzolQHu",
        "outputId": "6d1c7128-2524-4e69-898e-7ac3cb4ff0a0"
      },
      "execution_count": 6,
      "outputs": [
        {
          "output_type": "execute_result",
          "data": {
            "text/plain": [
              "tensor([2, 5, 3])"
            ]
          },
          "metadata": {},
          "execution_count": 6
        }
      ]
    },
    {
      "cell_type": "code",
      "source": [
        "torch.matmul(I, u_pt)"
      ],
      "metadata": {
        "colab": {
          "base_uri": "https://localhost:8080/"
        },
        "id": "MZw6qTjvlhvh",
        "outputId": "034e1e97-8bc3-4bdc-9219-faabd0234648"
      },
      "execution_count": 7,
      "outputs": [
        {
          "output_type": "execute_result",
          "data": {
            "text/plain": [
              "tensor([2, 5, 3])"
            ]
          },
          "metadata": {},
          "execution_count": 7
        }
      ]
    },
    {
      "cell_type": "markdown",
      "source": [
        "2. Apply the matrix ***B*** to the vector ***u***."
      ],
      "metadata": {
        "id": "MEWHAETFl6i7"
      }
    },
    {
      "cell_type": "code",
      "source": [
        "B = np.array([[2, 0, -1], [-2, 3, 1], [0, 4, -1]])\n",
        "B"
      ],
      "metadata": {
        "colab": {
          "base_uri": "https://localhost:8080/"
        },
        "id": "n29VIQxGmBRN",
        "outputId": "c3d9a82f-b180-44be-8e45-b60f3001587a"
      },
      "execution_count": 8,
      "outputs": [
        {
          "output_type": "execute_result",
          "data": {
            "text/plain": [
              "array([[ 2,  0, -1],\n",
              "       [-2,  3,  1],\n",
              "       [ 0,  4, -1]])"
            ]
          },
          "metadata": {},
          "execution_count": 8
        }
      ]
    },
    {
      "cell_type": "code",
      "source": [
        "u = np.array([2, 5, 3])\n",
        "u"
      ],
      "metadata": {
        "colab": {
          "base_uri": "https://localhost:8080/"
        },
        "id": "ntgZXtkEm4Mj",
        "outputId": "177cb2ac-5969-4211-a883-9377a126b3c8"
      },
      "execution_count": 12,
      "outputs": [
        {
          "output_type": "execute_result",
          "data": {
            "text/plain": [
              "array([2, 5, 3])"
            ]
          },
          "metadata": {},
          "execution_count": 12
        }
      ]
    },
    {
      "cell_type": "code",
      "source": [
        "B_pt = torch.tensor([[2, 0, -1], [-2, 3, 1], [0, 4, -1]])\n",
        "B_pt"
      ],
      "metadata": {
        "colab": {
          "base_uri": "https://localhost:8080/"
        },
        "id": "KcRMJHudnAeN",
        "outputId": "27140e83-3533-4ca0-ad75-49c6397a7627"
      },
      "execution_count": 13,
      "outputs": [
        {
          "output_type": "execute_result",
          "data": {
            "text/plain": [
              "tensor([[ 2,  0, -1],\n",
              "        [-2,  3,  1],\n",
              "        [ 0,  4, -1]])"
            ]
          },
          "metadata": {},
          "execution_count": 13
        }
      ]
    },
    {
      "cell_type": "code",
      "source": [
        "u_pt = torch.tensor([2, 5, 3])\n",
        "u_pt"
      ],
      "metadata": {
        "colab": {
          "base_uri": "https://localhost:8080/"
        },
        "id": "Lzpww2uvmlqM",
        "outputId": "9ff20e16-55e8-4e65-f21c-0ad97bed8b73"
      },
      "execution_count": 10,
      "outputs": [
        {
          "output_type": "execute_result",
          "data": {
            "text/plain": [
              "tensor([2, 5, 3])"
            ]
          },
          "metadata": {},
          "execution_count": 10
        }
      ]
    },
    {
      "cell_type": "code",
      "source": [
        "torch.matmul(B_pt, u_pt)"
      ],
      "metadata": {
        "colab": {
          "base_uri": "https://localhost:8080/"
        },
        "id": "edV0srNtmWJT",
        "outputId": "94f8d1a6-e1a1-4d8e-b982-9e07ee2b4867"
      },
      "execution_count": 15,
      "outputs": [
        {
          "output_type": "execute_result",
          "data": {
            "text/plain": [
              "tensor([ 1, 14, 17])"
            ]
          },
          "metadata": {},
          "execution_count": 15
        }
      ]
    },
    {
      "cell_type": "markdown",
      "source": [
        "3. Concatenante vector ***u*** with vector ***u2*** to form a matrix U, then apply the matrix ***B*** to the matrix ***U***."
      ],
      "metadata": {
        "id": "5ZWAA7HpnkFi"
      }
    },
    {
      "cell_type": "code",
      "source": [
        "U = np.array([[2, 0], [5, -4], [-3, 6]])\n",
        "U"
      ],
      "metadata": {
        "colab": {
          "base_uri": "https://localhost:8080/"
        },
        "id": "H3huj23In4yF",
        "outputId": "ff108daf-1526-44ac-d729-18210263127f"
      },
      "execution_count": 21,
      "outputs": [
        {
          "output_type": "execute_result",
          "data": {
            "text/plain": [
              "array([[ 2,  0],\n",
              "       [ 5, -4],\n",
              "       [-3,  6]])"
            ]
          },
          "metadata": {},
          "execution_count": 21
        }
      ]
    },
    {
      "cell_type": "code",
      "source": [
        "np.dot(B, U)"
      ],
      "metadata": {
        "colab": {
          "base_uri": "https://localhost:8080/"
        },
        "id": "cVgTN6Q0pTAq",
        "outputId": "74480c15-af63-453f-ccd4-c9bc57936b19"
      },
      "execution_count": 22,
      "outputs": [
        {
          "output_type": "execute_result",
          "data": {
            "text/plain": [
              "array([[  7,  -6],\n",
              "       [  8,  -6],\n",
              "       [ 23, -22]])"
            ]
          },
          "metadata": {},
          "execution_count": 22
        }
      ]
    }
  ]
}