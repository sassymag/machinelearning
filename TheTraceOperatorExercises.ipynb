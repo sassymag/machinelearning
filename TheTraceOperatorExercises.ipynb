{
  "nbformat": 4,
  "nbformat_minor": 0,
  "metadata": {
    "colab": {
      "provenance": [],
      "authorship_tag": "ABX9TyM6FcPzdwigZUOGtf3sklR8",
      "include_colab_link": true
    },
    "kernelspec": {
      "name": "python3",
      "display_name": "Python 3"
    },
    "language_info": {
      "name": "python"
    }
  },
  "cells": [
    {
      "cell_type": "markdown",
      "metadata": {
        "id": "view-in-github",
        "colab_type": "text"
      },
      "source": [
        "<a href=\"https://colab.research.google.com/github/sassymag/machinelearning/blob/main/TheTraceOperatorExercises.ipynb\" target=\"_parent\"><img src=\"https://colab.research.google.com/assets/colab-badge.svg\" alt=\"Open In Colab\"/></a>"
      ]
    },
    {
      "cell_type": "markdown",
      "source": [
        "1. Use the PyTorch trace method to calculate the trace of `A_p`."
      ],
      "metadata": {
        "id": "xzutTakem5h-"
      }
    },
    {
      "cell_type": "code",
      "source": [
        "import torch"
      ],
      "metadata": {
        "id": "nqX42ORhnXJp"
      },
      "execution_count": 2,
      "outputs": []
    },
    {
      "cell_type": "code",
      "execution_count": 3,
      "metadata": {
        "colab": {
          "base_uri": "https://localhost:8080/"
        },
        "id": "3T_xV-bXm4lt",
        "outputId": "738109a6-eb22-4bf7-e7dd-5cba170491e9"
      },
      "outputs": [
        {
          "output_type": "execute_result",
          "data": {
            "text/plain": [
              "tensor([[-1.,  2.],\n",
              "        [ 3., -2.],\n",
              "        [ 5.,  7.]])"
            ]
          },
          "metadata": {},
          "execution_count": 3
        }
      ],
      "source": [
        "A_p = torch.tensor([[-1, 2], [3, -2], [5, 7.]])\n",
        "A_p"
      ]
    },
    {
      "cell_type": "code",
      "source": [
        "torch.trace(A_p)"
      ],
      "metadata": {
        "colab": {
          "base_uri": "https://localhost:8080/"
        },
        "id": "AIdZqB0EngcR",
        "outputId": "d598467b-d8f1-481a-a43b-ebdef8217667"
      },
      "execution_count": 4,
      "outputs": [
        {
          "output_type": "execute_result",
          "data": {
            "text/plain": [
              "tensor(-3.)"
            ]
          },
          "metadata": {},
          "execution_count": 4
        }
      ]
    },
    {
      "cell_type": "markdown",
      "source": [
        "2. Use the PyTorch Frobenius norm method and the trace method to demonstrate that $||A||_F = \\sqrt{\\mathrm{Tr}(AA^\\mathrm{T})}$"
      ],
      "metadata": {
        "id": "5zeuZ4Ivo4mv"
      }
    },
    {
      "cell_type": "code",
      "source": [
        "torch.linalg.norm(A_p)"
      ],
      "metadata": {
        "colab": {
          "base_uri": "https://localhost:8080/"
        },
        "id": "y6QyQ_1yokRw",
        "outputId": "06056403-608c-46cb-b132-6617b3f75b1b"
      },
      "execution_count": 5,
      "outputs": [
        {
          "output_type": "execute_result",
          "data": {
            "text/plain": [
              "tensor(9.5917)"
            ]
          },
          "metadata": {},
          "execution_count": 5
        }
      ]
    }
  ]
}