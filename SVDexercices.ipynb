{
  "nbformat": 4,
  "nbformat_minor": 0,
  "metadata": {
    "colab": {
      "provenance": [],
      "authorship_tag": "ABX9TyNweBNFuhgvb3t7VaPoxR83",
      "include_colab_link": true
    },
    "kernelspec": {
      "name": "python3",
      "display_name": "Python 3"
    },
    "language_info": {
      "name": "python"
    }
  },
  "cells": [
    {
      "cell_type": "markdown",
      "metadata": {
        "id": "view-in-github",
        "colab_type": "text"
      },
      "source": [
        "<a href=\"https://colab.research.google.com/github/sassymag/machinelearning/blob/main/SVDexercices.ipynb\" target=\"_parent\"><img src=\"https://colab.research.google.com/assets/colab-badge.svg\" alt=\"Open In Colab\"/></a>"
      ]
    },
    {
      "cell_type": "markdown",
      "source": [
        "Using the matrix P from the preceding PyTorch exercises, demonstrate that these three SVD-eigendecomposition equations are true."
      ],
      "metadata": {
        "id": "32X1mF4S4Ivu"
      }
    },
    {
      "cell_type": "code",
      "execution_count": 2,
      "metadata": {
        "id": "bhjeRS-RY1og"
      },
      "outputs": [],
      "source": [
        "import numpy as np"
      ]
    },
    {
      "cell_type": "code",
      "source": [
        "import torch"
      ],
      "metadata": {
        "id": "Rq-9CI-vZm6l"
      },
      "execution_count": 3,
      "outputs": []
    },
    {
      "cell_type": "code",
      "source": [
        "P = torch.tensor ([[25, 2, -5], [3, -2, 1], [5, 7, 4.]])\n",
        "P"
      ],
      "metadata": {
        "colab": {
          "base_uri": "https://localhost:8080/"
        },
        "id": "p0GNc0zXaUDZ",
        "outputId": "3d725c5e-5493-4cad-e628-43e012266332"
      },
      "execution_count": 4,
      "outputs": [
        {
          "output_type": "execute_result",
          "data": {
            "text/plain": [
              "tensor([[25.,  2., -5.],\n",
              "        [ 3., -2.,  1.],\n",
              "        [ 5.,  7.,  4.]])"
            ]
          },
          "metadata": {},
          "execution_count": 4
        }
      ]
    },
    {
      "cell_type": "code",
      "source": [
        "U, d, VT = torch.linalg.svd(P)"
      ],
      "metadata": {
        "id": "wHJ5E69raX0q"
      },
      "execution_count": 5,
      "outputs": []
    },
    {
      "cell_type": "code",
      "source": [
        "U"
      ],
      "metadata": {
        "colab": {
          "base_uri": "https://localhost:8080/"
        },
        "id": "_nxzE-zxagzJ",
        "outputId": "a7025ed2-79d4-44cf-d2d8-76dcbab18ff3"
      },
      "execution_count": 6,
      "outputs": [
        {
          "output_type": "execute_result",
          "data": {
            "text/plain": [
              "tensor([[-0.9757,  0.1823,  0.1214],\n",
              "        [-0.0975,  0.1350, -0.9860],\n",
              "        [-0.1961, -0.9739, -0.1140]])"
            ]
          },
          "metadata": {},
          "execution_count": 6
        }
      ]
    },
    {
      "cell_type": "code",
      "source": [
        "VT"
      ],
      "metadata": {
        "colab": {
          "base_uri": "https://localhost:8080/"
        },
        "id": "FUQQaU7caten",
        "outputId": "a7c9b926-1514-468b-d61c-faa76df06514"
      },
      "execution_count": 7,
      "outputs": [
        {
          "output_type": "execute_result",
          "data": {
            "text/plain": [
              "tensor([[-0.9810, -0.1196,  0.1528],\n",
              "        [ 0.0113, -0.8211, -0.5706],\n",
              "        [-0.1937,  0.5581, -0.8069]])"
            ]
          },
          "metadata": {},
          "execution_count": 7
        }
      ]
    },
    {
      "cell_type": "code",
      "source": [
        "d"
      ],
      "metadata": {
        "colab": {
          "base_uri": "https://localhost:8080/"
        },
        "id": "T_7TbGWWawJQ",
        "outputId": "3f6abc86-6ebb-45b5-c627-7eefa0908c4d"
      },
      "execution_count": 8,
      "outputs": [
        {
          "output_type": "execute_result",
          "data": {
            "text/plain": [
              "tensor([26.1632,  8.1875,  2.5395])"
            ]
          },
          "metadata": {},
          "execution_count": 8
        }
      ]
    },
    {
      "cell_type": "code",
      "source": [
        "torch.diag(d)"
      ],
      "metadata": {
        "colab": {
          "base_uri": "https://localhost:8080/"
        },
        "id": "q9Vu5Nsva1J6",
        "outputId": "76561473-f1ea-476e-a457-5a1be1b469fc"
      },
      "execution_count": 19,
      "outputs": [
        {
          "output_type": "execute_result",
          "data": {
            "text/plain": [
              "tensor([[26.1632,  0.0000,  0.0000],\n",
              "        [ 0.0000,  8.1875,  0.0000],\n",
              "        [ 0.0000,  0.0000,  2.5395]])"
            ]
          },
          "metadata": {},
          "execution_count": 19
        }
      ]
    },
    {
      "cell_type": "code",
      "source": [
        "p_pT = torch.linalg.matmul(P,P.T)"
      ],
      "metadata": {
        "id": "a_nBVTd3bQaP"
      },
      "execution_count": 20,
      "outputs": []
    },
    {
      "cell_type": "code",
      "source": [
        "lambdas, eign_p_pT = torch.linalg.eig(torch.linalg.matmul(P,P.T))"
      ],
      "metadata": {
        "id": "aaL6aiQo3ftQ"
      },
      "execution_count": 21,
      "outputs": []
    },
    {
      "cell_type": "code",
      "source": [
        "pT_p = torch.linalg.matmul(P.T,P)"
      ],
      "metadata": {
        "id": "7LRJoii13hBb"
      },
      "execution_count": 22,
      "outputs": []
    },
    {
      "cell_type": "code",
      "source": [
        "lambdas, eign_pT_p = torch.linalg.eig(torch.linalg.matmul(P.T,P))"
      ],
      "metadata": {
        "id": "oZSYGA8C3jzE"
      },
      "execution_count": 23,
      "outputs": []
    },
    {
      "cell_type": "code",
      "source": [
        "P_repeated = torch.linalg.matmul(U, (torch.linalg.matmul(torch.diag(d),VT)))\n",
        "P_repeated"
      ],
      "metadata": {
        "colab": {
          "base_uri": "https://localhost:8080/"
        },
        "id": "Mco0N9wt3lPD",
        "outputId": "6a553e7d-76e9-43f9-863e-065bb1b48895"
      },
      "execution_count": 25,
      "outputs": [
        {
          "output_type": "execute_result",
          "data": {
            "text/plain": [
              "tensor([[25.0000,  2.0000, -5.0000],\n",
              "        [ 3.0000, -2.0000,  1.0000],\n",
              "        [ 5.0000,  7.0000,  4.0000]])"
            ]
          },
          "metadata": {},
          "execution_count": 25
        }
      ]
    }
  ]
}