{
  "nbformat": 4,
  "nbformat_minor": 0,
  "metadata": {
    "colab": {
      "provenance": [],
      "authorship_tag": "ABX9TyMDV5osczAirJQfV6EkDANW",
      "include_colab_link": true
    },
    "kernelspec": {
      "name": "python3",
      "display_name": "Python 3"
    },
    "language_info": {
      "name": "python"
    }
  },
  "cells": [
    {
      "cell_type": "markdown",
      "metadata": {
        "id": "view-in-github",
        "colab_type": "text"
      },
      "source": [
        "<a href=\"https://colab.research.google.com/github/sassymag/machinelearning/blob/main/Eigenvectors_in_%3E2_Dimensionsexcercises.ipynb\" target=\"_parent\"><img src=\"https://colab.research.google.com/assets/colab-badge.svg\" alt=\"Open In Colab\"/></a>"
      ]
    },
    {
      "cell_type": "markdown",
      "source": [
        "1. Use PyTorch to confirm $Xv = \\lambda v$ for the first eigenvector of $X$."
      ],
      "metadata": {
        "id": "b1rhwrv6rpeC"
      }
    },
    {
      "cell_type": "code",
      "source": [
        "import numpy as np"
      ],
      "metadata": {
        "id": "E3U-QmihrxVn"
      },
      "execution_count": 1,
      "outputs": []
    },
    {
      "cell_type": "code",
      "execution_count": 2,
      "metadata": {
        "colab": {
          "base_uri": "https://localhost:8080/"
        },
        "id": "nspNQO0Prk-b",
        "outputId": "b1d779d9-aeea-4bfb-d27b-4dbbae7140df"
      },
      "outputs": [
        {
          "output_type": "execute_result",
          "data": {
            "text/plain": [
              "array([[25,  2,  9],\n",
              "       [ 5, 26, -5],\n",
              "       [ 3,  7, -1]])"
            ]
          },
          "metadata": {},
          "execution_count": 2
        }
      ],
      "source": [
        "X = np.array([[25, 2, 9], [5, 26, -5], [3, 7, -1]])\n",
        "X"
      ]
    },
    {
      "cell_type": "code",
      "source": [
        "lambdas_X, V_X = np.linalg.eig(X)"
      ],
      "metadata": {
        "id": "68_eShAjr4p0"
      },
      "execution_count": 3,
      "outputs": []
    },
    {
      "cell_type": "code",
      "source": [
        "V_X"
      ],
      "metadata": {
        "colab": {
          "base_uri": "https://localhost:8080/"
        },
        "id": "7JgxSc3fsBb9",
        "outputId": "60172786-3fe2-4800-a812-9d2dadfed753"
      },
      "execution_count": 4,
      "outputs": [
        {
          "output_type": "execute_result",
          "data": {
            "text/plain": [
              "array([[-0.71175736, -0.6501921 , -0.34220476],\n",
              "       [-0.66652125,  0.74464056,  0.23789717],\n",
              "       [-0.22170001,  0.15086635,  0.90901091]])"
            ]
          },
          "metadata": {},
          "execution_count": 4
        }
      ]
    },
    {
      "cell_type": "code",
      "source": [
        "lambdas_X"
      ],
      "metadata": {
        "colab": {
          "base_uri": "https://localhost:8080/"
        },
        "id": "BALLGftAsFKu",
        "outputId": "8dfd34e3-cfe1-449f-b256-6a4984b419cf"
      },
      "execution_count": 5,
      "outputs": [
        {
          "output_type": "execute_result",
          "data": {
            "text/plain": [
              "array([29.67623202, 20.62117365, -0.29740567])"
            ]
          },
          "metadata": {},
          "execution_count": 5
        }
      ]
    },
    {
      "cell_type": "markdown",
      "source": [
        "Confirm $Xv = \\lambda v$ for an example eigenvector:"
      ],
      "metadata": {
        "id": "9tdT-4NDsIz-"
      }
    },
    {
      "cell_type": "code",
      "source": [
        "v_X = V_X[:,1]\n",
        "v_X"
      ],
      "metadata": {
        "colab": {
          "base_uri": "https://localhost:8080/"
        },
        "id": "P8lLpcgssNxg",
        "outputId": "980c7f13-6d06-4705-c227-2ac21d160be0"
      },
      "execution_count": 7,
      "outputs": [
        {
          "output_type": "execute_result",
          "data": {
            "text/plain": [
              "array([-0.6501921 ,  0.74464056,  0.15086635])"
            ]
          },
          "metadata": {},
          "execution_count": 7
        }
      ]
    },
    {
      "cell_type": "code",
      "source": [
        "lambda_X = lambdas_X[1]\n",
        "lambda_X"
      ],
      "metadata": {
        "colab": {
          "base_uri": "https://localhost:8080/"
        },
        "id": "zBMcBuIKsWmx",
        "outputId": "c7fe5881-7cba-4633-e807-9fbe982f6f8e"
      },
      "execution_count": 8,
      "outputs": [
        {
          "output_type": "execute_result",
          "data": {
            "text/plain": [
              "20.62117365053535"
            ]
          },
          "metadata": {},
          "execution_count": 8
        }
      ]
    },
    {
      "cell_type": "code",
      "source": [
        "np.dot(X, v_X)"
      ],
      "metadata": {
        "colab": {
          "base_uri": "https://localhost:8080/"
        },
        "id": "Nd8QbOG9seIe",
        "outputId": "6c455653-7514-49d2-b1ec-5af1c71b8274"
      },
      "execution_count": 9,
      "outputs": [
        {
          "output_type": "execute_result",
          "data": {
            "text/plain": [
              "array([-13.40772428,  15.3553624 ,   3.11104129])"
            ]
          },
          "metadata": {},
          "execution_count": 9
        }
      ]
    },
    {
      "cell_type": "code",
      "source": [
        "lambda_X * v_X"
      ],
      "metadata": {
        "colab": {
          "base_uri": "https://localhost:8080/"
        },
        "id": "5cOWtrjSsimV",
        "outputId": "4c28f44b-ff50-4edf-f971-4ee9b7cba876"
      },
      "execution_count": 10,
      "outputs": [
        {
          "output_type": "execute_result",
          "data": {
            "text/plain": [
              "array([-13.40772428,  15.3553624 ,   3.11104129])"
            ]
          },
          "metadata": {},
          "execution_count": 10
        }
      ]
    },
    {
      "cell_type": "markdown",
      "source": [
        "2. Confirm $Xv = \\lambda v$ for the remaining eigenvectors of $X$ (you can use NumPy or PyTorch, whichever you prefer)."
      ],
      "metadata": {
        "id": "9guEi2q1s0Q7"
      }
    },
    {
      "cell_type": "code",
      "source": [
        "v_X = V_X[:,2]\n",
        "v_X"
      ],
      "metadata": {
        "colab": {
          "base_uri": "https://localhost:8080/"
        },
        "id": "Lu9W5KQEs1S9",
        "outputId": "ce1b50b9-6a03-4c9f-f88b-ef9165063165"
      },
      "execution_count": 12,
      "outputs": [
        {
          "output_type": "execute_result",
          "data": {
            "text/plain": [
              "array([-0.34220476,  0.23789717,  0.90901091])"
            ]
          },
          "metadata": {},
          "execution_count": 12
        }
      ]
    },
    {
      "cell_type": "code",
      "source": [
        "lambda_X = lambdas_X[2]\n",
        "lambda_X"
      ],
      "metadata": {
        "colab": {
          "base_uri": "https://localhost:8080/"
        },
        "id": "EFWvoehftEpB",
        "outputId": "f85463bf-f9cf-4470-b2c3-da0efdba57cc"
      },
      "execution_count": 13,
      "outputs": [
        {
          "output_type": "execute_result",
          "data": {
            "text/plain": [
              "-0.29740567448426547"
            ]
          },
          "metadata": {},
          "execution_count": 13
        }
      ]
    },
    {
      "cell_type": "code",
      "source": [
        "np.dot(X, v_X)"
      ],
      "metadata": {
        "colab": {
          "base_uri": "https://localhost:8080/"
        },
        "id": "wdZ1TBwqtNFV",
        "outputId": "ccd0c65f-9169-4b85-ef7f-a413d12569e9"
      },
      "execution_count": 14,
      "outputs": [
        {
          "output_type": "execute_result",
          "data": {
            "text/plain": [
              "array([ 0.10177364, -0.07075197, -0.270345  ])"
            ]
          },
          "metadata": {},
          "execution_count": 14
        }
      ]
    },
    {
      "cell_type": "code",
      "source": [
        "lambda_X * v_X"
      ],
      "metadata": {
        "colab": {
          "base_uri": "https://localhost:8080/"
        },
        "id": "TkX_CzJKtVfu",
        "outputId": "99ab5b55-af93-4b13-8994-298071be29e4"
      },
      "execution_count": 15,
      "outputs": [
        {
          "output_type": "execute_result",
          "data": {
            "text/plain": [
              "array([ 0.10177364, -0.07075197, -0.270345  ])"
            ]
          },
          "metadata": {},
          "execution_count": 15
        }
      ]
    }
  ]
}