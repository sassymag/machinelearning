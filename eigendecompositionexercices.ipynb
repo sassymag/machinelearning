{
  "nbformat": 4,
  "nbformat_minor": 0,
  "metadata": {
    "colab": {
      "provenance": [],
      "authorship_tag": "ABX9TyM0pg/HKR+COA2On7y8KRkH",
      "include_colab_link": true
    },
    "kernelspec": {
      "name": "python3",
      "display_name": "Python 3"
    },
    "language_info": {
      "name": "python"
    }
  },
  "cells": [
    {
      "cell_type": "markdown",
      "metadata": {
        "id": "view-in-github",
        "colab_type": "text"
      },
      "source": [
        "<a href=\"https://colab.research.google.com/github/sassymag/machinelearning/blob/main/eigendecompositionexercices.ipynb\" target=\"_parent\"><img src=\"https://colab.research.google.com/assets/colab-badge.svg\" alt=\"Open In Colab\"/></a>"
      ]
    },
    {
      "cell_type": "markdown",
      "source": [
        "1. Use PyTorch to decompose the matrix $P$ (below) into its components $V$, $\\Lambda$, and $V^{-1}$. Confirm that $P = V \\Lambda V^{-1}$."
      ],
      "metadata": {
        "id": "LTtHaDfiLA-v"
      }
    },
    {
      "cell_type": "code",
      "source": [
        "import numpy as np"
      ],
      "metadata": {
        "id": "9UgDRr6H1j0L"
      },
      "execution_count": 2,
      "outputs": []
    },
    {
      "cell_type": "code",
      "execution_count": 3,
      "metadata": {
        "id": "PQ4xmSLbK9Ig"
      },
      "outputs": [],
      "source": [
        "import torch"
      ]
    },
    {
      "cell_type": "code",
      "source": [
        "P = torch.tensor ([[25, 2, -5], [3, -2, 1], [5, 7, 4.]])\n",
        "P"
      ],
      "metadata": {
        "colab": {
          "base_uri": "https://localhost:8080/"
        },
        "id": "_Xk3O7ovLQWD",
        "outputId": "c8c483cd-c07c-4baf-e304-8cf15f509014"
      },
      "execution_count": 4,
      "outputs": [
        {
          "output_type": "execute_result",
          "data": {
            "text/plain": [
              "tensor([[25.,  2., -5.],\n",
              "        [ 3., -2.,  1.],\n",
              "        [ 5.,  7.,  4.]])"
            ]
          },
          "metadata": {},
          "execution_count": 4
        }
      ]
    },
    {
      "cell_type": "code",
      "source": [
        "lambdas, V_P = torch.linalg.eig(P)"
      ],
      "metadata": {
        "id": "TCZerGUZLiA7"
      },
      "execution_count": 5,
      "outputs": []
    },
    {
      "cell_type": "code",
      "source": [
        "lambdas"
      ],
      "metadata": {
        "colab": {
          "base_uri": "https://localhost:8080/"
        },
        "id": "A19z9Ah3wVPo",
        "outputId": "2cca57dd-f01a-49bf-d966-8c9db063c28f"
      },
      "execution_count": 6,
      "outputs": [
        {
          "output_type": "execute_result",
          "data": {
            "text/plain": [
              "tensor([23.7644+0.j,  6.6684+0.j, -3.4328+0.j])"
            ]
          },
          "metadata": {},
          "execution_count": 6
        }
      ]
    },
    {
      "cell_type": "code",
      "source": [
        "V_P"
      ],
      "metadata": {
        "colab": {
          "base_uri": "https://localhost:8080/"
        },
        "id": "Y9jZZsHmOnBj",
        "outputId": "814bf3d2-9587-4e50-d4d1-cbe79c33bf78"
      },
      "execution_count": 7,
      "outputs": [
        {
          "output_type": "execute_result",
          "data": {
            "text/plain": [
              "tensor([[ 0.9511+0.j, -0.2386+0.j,  0.1626+0.j],\n",
              "        [ 0.1218+0.j, -0.1924+0.j, -0.7705+0.j],\n",
              "        [ 0.2837+0.j, -0.9519+0.j,  0.6163+0.j]])"
            ]
          },
          "metadata": {},
          "execution_count": 7
        }
      ]
    },
    {
      "cell_type": "code",
      "source": [
        "V_Pinv = torch.linalg.inv(V_P)\n",
        "V_Pinv"
      ],
      "metadata": {
        "colab": {
          "base_uri": "https://localhost:8080/"
        },
        "id": "9EYvaMe4PIYZ",
        "outputId": "9c7a4798-0676-420e-9a65-589e273ecf97"
      },
      "execution_count": 8,
      "outputs": [
        {
          "output_type": "execute_result",
          "data": {
            "text/plain": [
              "tensor([[ 1.1356+0.j,  0.0102+0.j, -0.2868+0.j],\n",
              "        [ 0.3914+0.j, -0.7198-0.j, -1.0032-0.j],\n",
              "        [ 0.0817+0.j, -1.1164-0.j,  0.2052+0.j]])"
            ]
          },
          "metadata": {},
          "execution_count": 8
        }
      ]
    },
    {
      "cell_type": "code",
      "source": [
        "Lambda = torch.diag(lambdas)\n",
        "Lambda"
      ],
      "metadata": {
        "colab": {
          "base_uri": "https://localhost:8080/"
        },
        "id": "Q1d9d_THPXF1",
        "outputId": "d114226b-3953-44c4-e3e9-8ff856cbb8db"
      },
      "execution_count": 9,
      "outputs": [
        {
          "output_type": "execute_result",
          "data": {
            "text/plain": [
              "tensor([[23.7644+0.j,  0.0000+0.j,  0.0000+0.j],\n",
              "        [ 0.0000+0.j,  6.6684+0.j,  0.0000+0.j],\n",
              "        [ 0.0000+0.j,  0.0000+0.j, -3.4328+0.j]])"
            ]
          },
          "metadata": {},
          "execution_count": 9
        }
      ]
    },
    {
      "cell_type": "code",
      "source": [
        "np.dot(P, np.dot(Lambda, V_Pinv))"
      ],
      "metadata": {
        "colab": {
          "base_uri": "https://localhost:8080/"
        },
        "id": "myqIna2HQUc-",
        "outputId": "2bfecc46-0d26-4d5a-c737-400ff6cfadca"
      },
      "execution_count": 10,
      "outputs": [
        {
          "output_type": "execute_result",
          "data": {
            "text/plain": [
              "array([[ 681.3009   +0.j,  -22.678679 +0.j, -180.23001  +0.j],\n",
              "       [  75.46045  +0.j,   14.162617 +0.j,   -7.7693653+0.j],\n",
              "       [ 152.08485  +0.j,  -17.053043 +0.j,  -83.72035  +0.j]],\n",
              "      dtype=complex64)"
            ]
          },
          "metadata": {},
          "execution_count": 10
        }
      ]
    },
    {
      "cell_type": "markdown",
      "source": [
        "2. Use PyTorch to decompose the symmetric matrix $S$ (below) into its components $Q$, $\\Lambda$, and $Q^T$. Confirm that $S = Q \\Lambda Q^T$."
      ],
      "metadata": {
        "id": "-7wlyXkP14T-"
      }
    },
    {
      "cell_type": "code",
      "source": [
        "S = torch.tensor([[25, 2, -5], [2, -2, 1], [-5, 1, 4.]])\n",
        "S"
      ],
      "metadata": {
        "colab": {
          "base_uri": "https://localhost:8080/"
        },
        "id": "5WreMJY21770",
        "outputId": "e179f14d-e698-40b5-f4ee-2db00e576a9e"
      },
      "execution_count": 11,
      "outputs": [
        {
          "output_type": "execute_result",
          "data": {
            "text/plain": [
              "tensor([[25.,  2., -5.],\n",
              "        [ 2., -2.,  1.],\n",
              "        [-5.,  1.,  4.]])"
            ]
          },
          "metadata": {},
          "execution_count": 11
        }
      ]
    },
    {
      "cell_type": "code",
      "source": [
        "lambdas, V_S = torch.linalg.eig(S)"
      ],
      "metadata": {
        "id": "CHDlW7xE2Cg0"
      },
      "execution_count": 16,
      "outputs": []
    },
    {
      "cell_type": "code",
      "source": [
        "lambdas"
      ],
      "metadata": {
        "colab": {
          "base_uri": "https://localhost:8080/"
        },
        "id": "73d3bVNu2MCM",
        "outputId": "543cb3a6-f8d4-4bd0-a59f-d5f7a32012c4"
      },
      "execution_count": 13,
      "outputs": [
        {
          "output_type": "execute_result",
          "data": {
            "text/plain": [
              "array([26.236076 ,  3.2434747, -2.479551 ], dtype=float32)"
            ]
          },
          "metadata": {},
          "execution_count": 13
        }
      ]
    },
    {
      "cell_type": "code",
      "source": [
        "Lambda = torch.diag(lambdas)\n",
        "Lambda"
      ],
      "metadata": {
        "colab": {
          "base_uri": "https://localhost:8080/"
        },
        "id": "BaqwuLCU2SbQ",
        "outputId": "72abaaa7-b7ae-4518-c688-dbc6e2c8d258"
      },
      "execution_count": 17,
      "outputs": [
        {
          "output_type": "execute_result",
          "data": {
            "text/plain": [
              "tensor([[26.2361+0.j,  0.0000+0.j,  0.0000+0.j],\n",
              "        [ 0.0000+0.j,  3.2435+0.j,  0.0000+0.j],\n",
              "        [ 0.0000+0.j,  0.0000+0.j, -2.4796+0.j]])"
            ]
          },
          "metadata": {},
          "execution_count": 17
        }
      ]
    },
    {
      "cell_type": "code",
      "source": [
        "V_S"
      ],
      "metadata": {
        "colab": {
          "base_uri": "https://localhost:8080/"
        },
        "id": "txZuu7JwX7rV",
        "outputId": "82a0e24f-18a3-4a73-8c37-c4978e10f841"
      },
      "execution_count": 18,
      "outputs": [
        {
          "output_type": "execute_result",
          "data": {
            "text/plain": [
              "tensor([[ 0.9744+0.j,  0.1943+0.j, -0.1132+0.j],\n",
              "        [ 0.0614+0.j,  0.2548+0.j,  0.9651+0.j],\n",
              "        [-0.2163+0.j,  0.9473+0.j, -0.2363+0.j]])"
            ]
          },
          "metadata": {},
          "execution_count": 18
        }
      ]
    },
    {
      "cell_type": "code",
      "source": [
        "np.dot(V_S, np.dot(Lambda, V_S.T))"
      ],
      "metadata": {
        "colab": {
          "base_uri": "https://localhost:8080/"
        },
        "id": "-pBmlQFFYAXm",
        "outputId": "3d312e34-c68e-4858-a60e-86741138104b"
      },
      "execution_count": 19,
      "outputs": [
        {
          "output_type": "execute_result",
          "data": {
            "text/plain": [
              "array([[24.999992 +0.j,  1.9999996+0.j, -4.999998 +0.j],\n",
              "       [ 1.9999996+0.j, -2.0000002+0.j,  0.9999999+0.j],\n",
              "       [-4.9999986+0.j,  0.9999999+0.j,  3.9999995+0.j]], dtype=complex64)"
            ]
          },
          "metadata": {},
          "execution_count": 19
        }
      ]
    }
  ]
}